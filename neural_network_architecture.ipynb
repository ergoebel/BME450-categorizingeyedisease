{
 "cells": [
  {
   "cell_type": "code",
   "execution_count": 2,
   "id": "f23b6847",
   "metadata": {},
   "outputs": [],
   "source": [
    "import torch.nn as nn\n",
    "import torch.nn.functional as F\n",
    "\n",
    "def create_model():\n",
    "    class Net(nn.Module):\n",
    "        def __init__(self):\n",
    "            super().__init__()\n",
    "            self.conv1 = nn.Conv2d(1, 12, kernel_size=5, padding=2)\n",
    "            self.pool = nn.MaxPool2d(2, 2)\n",
    "            self.conv2 = nn.Conv2d(12, 16, kernel_size=5, padding=2)\n",
    "            self.conv3 = nn.Conv2d(16, 32, kernel_size=5, padding=2)\n",
    "            self.fc1 = nn.Linear(3200, 256)\n",
    "            self.fc2 = nn.Linear(256, 84)\n",
    "            self.fc3 = nn.Linear(84,2)\n",
    "            self.dropout = nn.Dropout(p=0.5) # add a dropout layer with probability 0.5\n",
    "\n",
    "        def forward(self, x):\n",
    "            x = self.pool(F.relu(self.conv1(x)))\n",
    "            x = self.dropout(x) # apply dropout after the first convolutional layer\n",
    "            x = self.pool(F.relu(self.conv2(x)))\n",
    "            x = self.dropout(x) # apply dropout after the second convolutional layer\n",
    "            x = self.pool(F.relu(self.conv3(x)))\n",
    "            x = self.dropout(x) # apply dropout after the third convolutional layer\n",
    "            x = torch.flatten(x, 1) # flatten all dimensions except batch\n",
    "            x = F.relu(self.fc1(x))\n",
    "            x = self.dropout(x) # apply dropout after the first fully connected layer\n",
    "            x = F.relu(self.fc2(x))\n",
    "            x = self.fc3(x)\n",
    "            return x\n",
    "\n",
    "    net = Net()\n",
    "    return net"
   ]
  },
  {
   "cell_type": "code",
   "execution_count": null,
   "id": "c9bf8f50",
   "metadata": {},
   "outputs": [],
   "source": [
    " "
   ]
  },
  {
   "cell_type": "code",
   "execution_count": null,
   "id": "a07217c6",
   "metadata": {},
   "outputs": [],
   "source": []
  }
 ],
 "metadata": {
  "kernelspec": {
   "display_name": "Python 3 (ipykernel)",
   "language": "python",
   "name": "python3"
  },
  "language_info": {
   "codemirror_mode": {
    "name": "ipython",
    "version": 3
   },
   "file_extension": ".py",
   "mimetype": "text/x-python",
   "name": "python",
   "nbconvert_exporter": "python",
   "pygments_lexer": "ipython3",
   "version": "3.9.13"
  }
 },
 "nbformat": 4,
 "nbformat_minor": 5
}
