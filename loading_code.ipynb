{
 "cells": [
  {
   "cell_type": "code",
   "execution_count": 5,
   "id": "8d87f8cf",
   "metadata": {},
   "outputs": [],
   "source": [
    "import numpy as np\n",
    "from sklearn.preprocessing import LabelEncoder\n",
    "from PIL import Image\n",
    "import pandas as pd\n",
    "\n",
    "def load_data(image_folder, excel_file):\n",
    "    # Use Pandas to read the Excel file\n",
    "    df = pd.read_excel(excel_file)\n",
    "    \n",
    "    # Convert the labels to categorical variables\n",
    "    label_encoder = LabelEncoder()\n",
    "    df['New Label'] = label_encoder.fit_transform(df['New Label'])\n",
    "\n",
    "    # Create an empty list to store the preprocessed images and labels\n",
    "    images = []\n",
    "    labels = []\n",
    "    \n",
    "    # Load and preprocess images in batches of 64\n",
    "    batch_size = 64\n",
    "    for i in range(0, len(df), batch_size):\n",
    "        batch_df = df.iloc[i:i+batch_size]\n",
    "        batch_filenames = batch_df['Filename'].tolist()\n",
    "        batch_labels = batch_df['New Label'].tolist()\n",
    "    \n",
    "        batch_images = []\n",
    "        for filename in batch_filenames:\n",
    "            image_path = f'{image_folder}/{filename}'\n",
    "            image = Image.open(image_path)\n",
    "            batch_images.append(np.array(image))\n",
    "\n",
    "        # Preprocess the images as needed\n",
    "        def preprocess_images(images):\n",
    "            processed_images = []\n",
    "            for image in images:\n",
    "                # Convert the image to grayscale\n",
    "                image = Image.fromarray(image).convert('L')\n",
    "                # Resize the image to 60x60\n",
    "                image = image.resize((60, 60))\n",
    "                processed_images.append(np.array(image))\n",
    "            return np.array(processed_images)\n",
    "\n",
    "        batch_images = preprocess_images(batch_images)\n",
    "        batch_labels = [int(label) for label in batch_labels]\n",
    "        \n",
    "        images.extend(batch_images)\n",
    "        labels.extend(batch_labels)\n",
    "        \n",
    "    images = np.array(images)\n",
    "    labels = np.array(labels)\n",
    "\n",
    "    images = np.expand_dims(images, axis=1)\n",
    "    \n",
    "    return images, labels\n",
    "    \n",
    "    #return np.array(images), np.array(labels)"
   ]
  },
  {
   "cell_type": "code",
   "execution_count": null,
   "id": "7c4b26f1",
   "metadata": {},
   "outputs": [],
   "source": []
  },
  {
   "cell_type": "code",
   "execution_count": null,
   "id": "142859c7",
   "metadata": {},
   "outputs": [],
   "source": []
  }
 ],
 "metadata": {
  "kernelspec": {
   "display_name": "Python 3 (ipykernel)",
   "language": "python",
   "name": "python3"
  },
  "language_info": {
   "codemirror_mode": {
    "name": "ipython",
    "version": 3
   },
   "file_extension": ".py",
   "mimetype": "text/x-python",
   "name": "python",
   "nbconvert_exporter": "python",
   "pygments_lexer": "ipython3",
   "version": "3.9.13"
  }
 },
 "nbformat": 4,
 "nbformat_minor": 5
}
