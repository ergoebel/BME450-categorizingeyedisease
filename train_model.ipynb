{
 "cells": [
  {
   "cell_type": "code",
   "execution_count": 1,
   "id": "cf8136bb",
   "metadata": {},
   "outputs": [],
   "source": [
    "import torch\n",
    "import torch.nn as nn\n",
    "import torch.optim as optim\n",
    "import numpy as np\n",
    "\n",
    "def train_model(model, train_loader, test_loader, epochs):\n",
    "    # Set up the loss function and optimizer\n",
    "    criterion = nn.CrossEntropyLoss()\n",
    "    lr = 0.001 # sets the learning rate\n",
    "    optimizer = optim.Adagrad(model.parameters(), lr=lr)\n",
    "\n",
    "    train_losses = []  # empty list to store training losses\n",
    "    test_losses = []   # empty list to store test losses\n",
    "    epoch_losses = []  \n",
    "\n",
    "    for epoch in range(epochs):\n",
    "        running_loss = 0.0\n",
    "        for i, data in enumerate(train_loader, 0):\n",
    "            # Get the inputs and labels from the data loader\n",
    "            inputs, labels = data\n",
    "            inputs, labels = inputs.float(), labels.long()\n",
    "\n",
    "            # Zero the parameter gradients\n",
    "            optimizer.zero_grad()\n",
    "\n",
    "            # Forward pass, backward pass, and optimize\n",
    "            outputs = model(inputs)\n",
    "            loss = criterion(outputs, labels)\n",
    "            loss.backward()\n",
    "            optimizer.step()\n",
    "\n",
    "            # Append current loss to list\n",
    "            train_losses.append(loss.item())\n",
    "\n",
    "        # Compute the average epoch loss\n",
    "        epoch_loss = np.mean(train_losses[-len(train_loader):])\n",
    "        epoch_losses.append(epoch_loss)\n",
    "        print('Train Loss: %.3f' % epoch_loss)\n",
    "\n",
    "        # Call the test_model function to test the model on the test data\n",
    "        test_loss = test_model(model, test_loader)\n",
    "        test_losses.append(test_loss)\n",
    "\n",
    "    return epoch_losses, test_losses  # return lists of losses"
   ]
  },
  {
   "cell_type": "code",
   "execution_count": null,
   "id": "d0099f16",
   "metadata": {},
   "outputs": [],
   "source": []
  },
  {
   "cell_type": "code",
   "execution_count": null,
   "id": "3a7529a4",
   "metadata": {},
   "outputs": [],
   "source": []
  },
  {
   "cell_type": "code",
   "execution_count": null,
   "id": "28d658ff",
   "metadata": {},
   "outputs": [],
   "source": []
  }
 ],
 "metadata": {
  "kernelspec": {
   "display_name": "Python 3 (ipykernel)",
   "language": "python",
   "name": "python3"
  },
  "language_info": {
   "codemirror_mode": {
    "name": "ipython",
    "version": 3
   },
   "file_extension": ".py",
   "mimetype": "text/x-python",
   "name": "python",
   "nbconvert_exporter": "python",
   "pygments_lexer": "ipython3",
   "version": "3.9.13"
  }
 },
 "nbformat": 4,
 "nbformat_minor": 5
}
