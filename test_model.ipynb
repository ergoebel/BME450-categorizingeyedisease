{
 "cells": [
  {
   "cell_type": "code",
   "execution_count": null,
   "id": "69ba29ea",
   "metadata": {},
   "outputs": [],
   "source": [
    "import torch\n",
    "import torch.nn as nn\n",
    "import torch.optim as optim\n",
    "import numpy as np\n",
    "\n",
    "def test_model(model, test_loader):\n",
    "    # Set up the loss function\n",
    "    criterion = nn.CrossEntropyLoss()\n",
    "\n",
    "    test_losses = [] # list to store test losses\n",
    "    correct = 0      # counter for the number of correct predictions\n",
    "    total = 0        # counter for the total number of predictions\n",
    "    accuracies = []  # list to store accuracies\n",
    "\n",
    "    with torch.no_grad():\n",
    "        for data in test_loader:\n",
    "            # Get the inputs and labels from the data loader\n",
    "            inputs, labels = data\n",
    "            inputs, labels = inputs.float(), labels.long()\n",
    "\n",
    "            # Forward pass\n",
    "            outputs = model(inputs)\n",
    "\n",
    "            # Compute the loss\n",
    "            loss = criterion(outputs, labels)\n",
    "            test_losses.append(loss.item())\n",
    "\n",
    "            # Compute the number of correct predictions\n",
    "            _, predicted = torch.max(outputs.data, 1)\n",
    "            correct += (predicted == labels).sum().item()\n",
    "\n",
    "            # Update the total number of predictions\n",
    "            total += labels.size(0)\n",
    "\n",
    "    # Compute the average test loss and accuracy\n",
    "    test_loss = np.mean(test_losses)\n",
    "    accuracy = 100 * correct / total\n",
    "    \n",
    "    print('Test Loss: %.3f, Test Accuracy: %.2f%%' % (test_loss, accuracy))\n",
    "    \n",
    "    return test_loss"
   ]
  }
 ],
 "metadata": {
  "kernelspec": {
   "display_name": "Python 3 (ipykernel)",
   "language": "python",
   "name": "python3"
  },
  "language_info": {
   "codemirror_mode": {
    "name": "ipython",
    "version": 3
   },
   "file_extension": ".py",
   "mimetype": "text/x-python",
   "name": "python",
   "nbconvert_exporter": "python",
   "pygments_lexer": "ipython3",
   "version": "3.9.13"
  }
 },
 "nbformat": 4,
 "nbformat_minor": 5
}
